{
 "cells": [
  {
   "cell_type": "code",
   "execution_count": 1,
   "id": "d3ae7549",
   "metadata": {},
   "outputs": [],
   "source": [
    "import pandas as pd\n",
    "from matplotlib import pyplot as plt\n",
    "import numpy as np"
   ]
  },
  {
   "cell_type": "code",
   "execution_count": 2,
   "id": "26d69295",
   "metadata": {},
   "outputs": [],
   "source": [
    "artists_df = pd.read_csv('artists.csv')\n",
    "artworks_df = pd.read_csv('artworks.csv')\n",
    "art_on_view_df = pd.read_excel('art_on_view.xlsx')"
   ]
  },
  {
   "cell_type": "code",
   "execution_count": 3,
   "id": "8d9f7d7c",
   "metadata": {},
   "outputs": [],
   "source": [
    "pd.set_option('display.max_columns', None) # show all columns horizontally\n",
    "pd.set_option('display.max_rows', 500) # show up to 500 rows vertically\n"
   ]
  },
  {
   "cell_type": "markdown",
   "id": "b51b90e3",
   "metadata": {},
   "source": [
    "**When you have all the files loaded in the Notebook. It is always a good practice to see the shape of the dataset and couple of rows**"
   ]
  },
  {
   "cell_type": "code",
   "execution_count": 4,
   "id": "b2c56da1",
   "metadata": {},
   "outputs": [
    {
     "name": "stdout",
     "output_type": "stream",
     "text": [
      "Shape:  (15638, 9)\n",
      "   ConstituentID      DisplayName            ArtistBio Nationality Gender  \\\n",
      "0              1   Robert Arneson  American, 1930–1992    American   male   \n",
      "1              2   Doroteo Arnaiz   Spanish, born 1936     Spanish   male   \n",
      "2              3      Bill Arnold  American, born 1941    American   male   \n",
      "3              4  Charles Arnoldi  American, born 1946    American   male   \n",
      "4              5      Per Arnoldi    Danish, born 1941      Danish   male   \n",
      "\n",
      "   BeginDate  EndDate  Wiki QID         ULAN  \n",
      "0       1930     1992       NaN          NaN  \n",
      "1       1936        0       NaN          NaN  \n",
      "2       1941        0       NaN          NaN  \n",
      "3       1946        0  Q1063584  500027998.0  \n",
      "4       1941        0       NaN          NaN  \n"
     ]
    }
   ],
   "source": [
    "print(\"Shape: \", artists_df.shape)\n",
    "print(artists_df.head(5))"
   ]
  },
  {
   "cell_type": "code",
   "execution_count": 5,
   "id": "de1f3c75",
   "metadata": {},
   "outputs": [
    {
     "name": "stdout",
     "output_type": "stream",
     "text": [
      "Shape:  (157630, 30)\n",
      "                                               Title  \\\n",
      "0  Ferdinandsbrücke Project, Vienna, Austria (Ele...   \n",
      "1  City of Music, National Superior Conservatory ...   \n",
      "2  Villa project, outside Vienna, Austria (Elevat...   \n",
      "3  The Manhattan Transcripts Project, New York, N...   \n",
      "4  Villa project, outside Vienna, Austria (Exteri...   \n",
      "\n",
      "                     Artist ConstituentID  \\\n",
      "0               Otto Wagner          6210   \n",
      "1  Christian de Portzamparc          7470   \n",
      "2                Emil Hoppe          7605   \n",
      "3           Bernard Tschumi          7056   \n",
      "4                Emil Hoppe          7605   \n",
      "\n",
      "                                   ArtistBio Nationality BeginDate EndDate  \\\n",
      "0                      (Austrian, 1841–1918)  (Austrian)    (1841)  (1918)   \n",
      "1                        (French, born 1944)    (French)    (1944)     (0)   \n",
      "2                      (Austrian, 1876–1957)  (Austrian)    (1876)  (1957)   \n",
      "3  (French and Swiss, born Switzerland 1944)          ()    (1944)     (0)   \n",
      "4                      (Austrian, 1876–1957)  (Austrian)    (1876)  (1957)   \n",
      "\n",
      "   Gender  Date                                             Medium  \\\n",
      "0  (male)  1896      Ink and cut-and-pasted painted pages on paper   \n",
      "1  (male)  1987                  Paint and colored pencil on print   \n",
      "2  (male)  1903  Graphite, pen, color pencil, ink, and gouache ...   \n",
      "3  (male)  1980  Photographic reproduction with colored synthet...   \n",
      "4  (male)  1903  Graphite, color pencil, ink, and gouache on tr...   \n",
      "\n",
      "                           Dimensions  \\\n",
      "0  19 1/8 x 66 1/2\" (48.6 x 168.9 cm)   \n",
      "1       16 x 11 3/4\" (40.6 x 29.8 cm)   \n",
      "2   13 1/2 x 12 1/2\" (34.3 x 31.8 cm)   \n",
      "3           20 x 20\" (50.8 x 50.8 cm)   \n",
      "4    15 1/8 x 7 1/2\" (38.4 x 19.1 cm)   \n",
      "\n",
      "                                          CreditLine AccessionNumber  \\\n",
      "0  Fractional and promised gift of Jo Carole and ...        885.1996   \n",
      "1  Gift of the architect in honor of Lily Auchinc...          1.1995   \n",
      "2             Gift of Jo Carole and Ronald S. Lauder          1.1997   \n",
      "3  Purchase and partial gift of the architect in ...          2.1995   \n",
      "4             Gift of Jo Carole and Ronald S. Lauder          2.1997   \n",
      "\n",
      "  Classification             Department DateAcquired Cataloged  ObjectID  \\\n",
      "0   Architecture  Architecture & Design   1996-04-09         Y         2   \n",
      "1   Architecture  Architecture & Design   1995-01-17         Y         3   \n",
      "2   Architecture  Architecture & Design   1997-01-15         Y         4   \n",
      "3   Architecture  Architecture & Design   1995-01-17         Y         5   \n",
      "4   Architecture  Architecture & Design   1997-01-15         Y         6   \n",
      "\n",
      "                                       URL  \\\n",
      "0  https://www.moma.org/collection/works/2   \n",
      "1  https://www.moma.org/collection/works/3   \n",
      "2  https://www.moma.org/collection/works/4   \n",
      "3  https://www.moma.org/collection/works/5   \n",
      "4  https://www.moma.org/collection/works/6   \n",
      "\n",
      "                                            ImageURL OnView  \\\n",
      "0  https://www.moma.org/media/W1siZiIsIjUyNzc3MCJ...    NaN   \n",
      "1  https://www.moma.org/media/W1siZiIsIjUyNzM3NCJ...    NaN   \n",
      "2  https://www.moma.org/media/W1siZiIsIjUyNzM3NSJ...    NaN   \n",
      "3  https://www.moma.org/media/W1siZiIsIjUyNzQ3NCJ...    NaN   \n",
      "4  https://www.moma.org/media/W1siZiIsIjUyNzQ3NSJ...    NaN   \n",
      "\n",
      "   Circumference (cm)  Depth (cm)  Diameter (cm)  Height (cm)  Length (cm)  \\\n",
      "0                 NaN         NaN            NaN      48.6000          NaN   \n",
      "1                 NaN         NaN            NaN      40.6401          NaN   \n",
      "2                 NaN         NaN            NaN      34.3000          NaN   \n",
      "3                 NaN         NaN            NaN      50.8000          NaN   \n",
      "4                 NaN         NaN            NaN      38.4000          NaN   \n",
      "\n",
      "   Weight (kg)  Width (cm)  Seat Height (cm)  Duration (sec.)  \n",
      "0          NaN    168.9000               NaN              NaN  \n",
      "1          NaN     29.8451               NaN              NaN  \n",
      "2          NaN     31.8000               NaN              NaN  \n",
      "3          NaN     50.8000               NaN              NaN  \n",
      "4          NaN     19.1000               NaN              NaN  \n"
     ]
    }
   ],
   "source": [
    "print(\"Shape: \",artworks_df.shape)\n",
    "print(artworks_df.head(5))"
   ]
  },
  {
   "cell_type": "code",
   "execution_count": 6,
   "id": "d2bafe80",
   "metadata": {},
   "outputs": [
    {
     "name": "stdout",
     "output_type": "stream",
     "text": [
      "Shape:  (661, 7)\n",
      "   ConstituentID            DisplayName  \\\n",
      "0             11        Jean (Hans) Arp   \n",
      "1             19    Richard Artschwager   \n",
      "2             34            Alvar Aalto   \n",
      "3             38  Magdalena Abakanowicz   \n",
      "4             60            Ansel Adams   \n",
      "\n",
      "                                  ArtistBio Nationality  Gender  BeginDate  \\\n",
      "0  French, born Germany (Alsace). 1886–1966      French    male       1886   \n",
      "1                       American, 1923–2013    American    male       1923   \n",
      "2                        Finnish, 1898–1976     Finnish    male       1898   \n",
      "3                         Polish, 1930–2017      Polish  female       1930   \n",
      "4                       American, 1902–1984    American    male       1902   \n",
      "\n",
      "   EndDate  \n",
      "0     1966  \n",
      "1     2013  \n",
      "2     1976  \n",
      "3     2017  \n",
      "4     1984  \n"
     ]
    }
   ],
   "source": [
    "print(\"Shape: \",art_on_view_df.shape)\n",
    "print(art_on_view_df.head(5))"
   ]
  },
  {
   "cell_type": "markdown",
   "id": "b8fb0fae",
   "metadata": {},
   "source": [
    "**Commonalities:** When you look at multiple dataframes through head(#) method, you can spot some key attributes like:\n",
    "- Common columns\n",
    "- Null values\n",
    "- Data types"
   ]
  },
  {
   "cell_type": "code",
   "execution_count": 7,
   "id": "ca1c010e",
   "metadata": {},
   "outputs": [
    {
     "data": {
      "text/plain": [
       "Title                  object\n",
       "Artist                 object\n",
       "ConstituentID          object\n",
       "ArtistBio              object\n",
       "Nationality            object\n",
       "BeginDate              object\n",
       "EndDate                object\n",
       "Gender                 object\n",
       "Date                   object\n",
       "Medium                 object\n",
       "Dimensions             object\n",
       "CreditLine             object\n",
       "AccessionNumber        object\n",
       "Classification         object\n",
       "Department             object\n",
       "DateAcquired           object\n",
       "Cataloged              object\n",
       "ObjectID                int64\n",
       "URL                    object\n",
       "ImageURL               object\n",
       "OnView                 object\n",
       "Circumference (cm)    float64\n",
       "Depth (cm)            float64\n",
       "Diameter (cm)         float64\n",
       "Height (cm)           float64\n",
       "Length (cm)           float64\n",
       "Weight (kg)           float64\n",
       "Width (cm)            float64\n",
       "Seat Height (cm)      float64\n",
       "Duration (sec.)       float64\n",
       "dtype: object"
      ]
     },
     "execution_count": 7,
     "metadata": {},
     "output_type": "execute_result"
    }
   ],
   "source": [
    "artworks_df.dtypes\n",
    "\n",
    "# merged_df = artworks_df.merge(artists_df, on='ConstituentID', how='left')\n",
    "# print(\"Merged DataFrame Shape: \", merged_df.shape)\n",
    "# print(merged_df.head(5))"
   ]
  },
  {
   "cell_type": "markdown",
   "id": "f7b47893",
   "metadata": {},
   "source": [
    "### Type Conversion before merging\n",
    "To avoid conflicts as shown above, it is important to alignment of the data types before merging"
   ]
  },
  {
   "cell_type": "code",
   "execution_count": 8,
   "id": "673184a5",
   "metadata": {},
   "outputs": [],
   "source": [
    "artists_df['ConstituentID'] = artists_df['ConstituentID'].astype(str)\n",
    "artworks_df['ConstituentID'] = artworks_df['ConstituentID'].astype(str)\n",
    "art_on_view_df['ConstituentID'] = art_on_view_df['ConstituentID'].astype(str)"
   ]
  },
  {
   "cell_type": "code",
   "execution_count": 9,
   "id": "e14f9894",
   "metadata": {},
   "outputs": [
    {
     "name": "stdout",
     "output_type": "stream",
     "text": [
      "merged_df:  (157630, 38)\n",
      "                                               Title  \\\n",
      "0  Ferdinandsbrücke Project, Vienna, Austria (Ele...   \n",
      "1  City of Music, National Superior Conservatory ...   \n",
      "2  Villa project, outside Vienna, Austria (Elevat...   \n",
      "3  The Manhattan Transcripts Project, New York, N...   \n",
      "4  Villa project, outside Vienna, Austria (Exteri...   \n",
      "\n",
      "                     Artist ConstituentID  \\\n",
      "0               Otto Wagner          6210   \n",
      "1  Christian de Portzamparc          7470   \n",
      "2                Emil Hoppe          7605   \n",
      "3           Bernard Tschumi          7056   \n",
      "4                Emil Hoppe          7605   \n",
      "\n",
      "                                 ArtistBio_x Nationality_x BeginDate_x  \\\n",
      "0                      (Austrian, 1841–1918)    (Austrian)      (1841)   \n",
      "1                        (French, born 1944)      (French)      (1944)   \n",
      "2                      (Austrian, 1876–1957)    (Austrian)      (1876)   \n",
      "3  (French and Swiss, born Switzerland 1944)            ()      (1944)   \n",
      "4                      (Austrian, 1876–1957)    (Austrian)      (1876)   \n",
      "\n",
      "  EndDate_x Gender_x  Date                                             Medium  \\\n",
      "0    (1918)   (male)  1896      Ink and cut-and-pasted painted pages on paper   \n",
      "1       (0)   (male)  1987                  Paint and colored pencil on print   \n",
      "2    (1957)   (male)  1903  Graphite, pen, color pencil, ink, and gouache ...   \n",
      "3       (0)   (male)  1980  Photographic reproduction with colored synthet...   \n",
      "4    (1957)   (male)  1903  Graphite, color pencil, ink, and gouache on tr...   \n",
      "\n",
      "                           Dimensions  \\\n",
      "0  19 1/8 x 66 1/2\" (48.6 x 168.9 cm)   \n",
      "1       16 x 11 3/4\" (40.6 x 29.8 cm)   \n",
      "2   13 1/2 x 12 1/2\" (34.3 x 31.8 cm)   \n",
      "3           20 x 20\" (50.8 x 50.8 cm)   \n",
      "4    15 1/8 x 7 1/2\" (38.4 x 19.1 cm)   \n",
      "\n",
      "                                          CreditLine AccessionNumber  \\\n",
      "0  Fractional and promised gift of Jo Carole and ...        885.1996   \n",
      "1  Gift of the architect in honor of Lily Auchinc...          1.1995   \n",
      "2             Gift of Jo Carole and Ronald S. Lauder          1.1997   \n",
      "3  Purchase and partial gift of the architect in ...          2.1995   \n",
      "4             Gift of Jo Carole and Ronald S. Lauder          2.1997   \n",
      "\n",
      "  Classification             Department DateAcquired Cataloged  ObjectID  \\\n",
      "0   Architecture  Architecture & Design   1996-04-09         Y         2   \n",
      "1   Architecture  Architecture & Design   1995-01-17         Y         3   \n",
      "2   Architecture  Architecture & Design   1997-01-15         Y         4   \n",
      "3   Architecture  Architecture & Design   1995-01-17         Y         5   \n",
      "4   Architecture  Architecture & Design   1997-01-15         Y         6   \n",
      "\n",
      "                                       URL  \\\n",
      "0  https://www.moma.org/collection/works/2   \n",
      "1  https://www.moma.org/collection/works/3   \n",
      "2  https://www.moma.org/collection/works/4   \n",
      "3  https://www.moma.org/collection/works/5   \n",
      "4  https://www.moma.org/collection/works/6   \n",
      "\n",
      "                                            ImageURL OnView  \\\n",
      "0  https://www.moma.org/media/W1siZiIsIjUyNzc3MCJ...    NaN   \n",
      "1  https://www.moma.org/media/W1siZiIsIjUyNzM3NCJ...    NaN   \n",
      "2  https://www.moma.org/media/W1siZiIsIjUyNzM3NSJ...    NaN   \n",
      "3  https://www.moma.org/media/W1siZiIsIjUyNzQ3NCJ...    NaN   \n",
      "4  https://www.moma.org/media/W1siZiIsIjUyNzQ3NSJ...    NaN   \n",
      "\n",
      "   Circumference (cm)  Depth (cm)  Diameter (cm)  Height (cm)  Length (cm)  \\\n",
      "0                 NaN         NaN            NaN      48.6000          NaN   \n",
      "1                 NaN         NaN            NaN      40.6401          NaN   \n",
      "2                 NaN         NaN            NaN      34.3000          NaN   \n",
      "3                 NaN         NaN            NaN      50.8000          NaN   \n",
      "4                 NaN         NaN            NaN      38.4000          NaN   \n",
      "\n",
      "   Weight (kg)  Width (cm)  Seat Height (cm)  Duration (sec.)  \\\n",
      "0          NaN    168.9000               NaN              NaN   \n",
      "1          NaN     29.8451               NaN              NaN   \n",
      "2          NaN     31.8000               NaN              NaN   \n",
      "3          NaN     50.8000               NaN              NaN   \n",
      "4          NaN     19.1000               NaN              NaN   \n",
      "\n",
      "                DisplayName                              ArtistBio_y  \\\n",
      "0               Otto Wagner                      Austrian, 1841–1918   \n",
      "1  Christian de Portzamparc                        French, born 1944   \n",
      "2                Emil Hoppe                      Austrian, 1876–1957   \n",
      "3           Bernard Tschumi  French and Swiss, born Switzerland 1944   \n",
      "4                Emil Hoppe                      Austrian, 1876–1957   \n",
      "\n",
      "  Nationality_y Gender_y  BeginDate_y  EndDate_y  Wiki QID         ULAN  \n",
      "0      Austrian     male       1841.0     1918.0    Q84287  500016971.0  \n",
      "1        French     male       1944.0        0.0   Q312838  500024982.0  \n",
      "2      Austrian     male       1876.0     1957.0  Q1336246  500232997.0  \n",
      "3           NaN     male       1944.0        0.0   Q123966  500022322.0  \n",
      "4      Austrian     male       1876.0     1957.0  Q1336246  500232997.0  \n"
     ]
    }
   ],
   "source": [
    "merged_df = pd.merge(artworks_df, artists_df, on='ConstituentID', how='left')\n",
    "print(\"merged_df: \", merged_df.shape)\n",
    "print(merged_df.head(5))"
   ]
  },
  {
   "cell_type": "code",
   "execution_count": 10,
   "id": "62b8d5c4",
   "metadata": {},
   "outputs": [
    {
     "name": "stdout",
     "output_type": "stream",
     "text": [
      "merged_on_view_df:  (157630, 44)\n",
      "                                               Title  \\\n",
      "0  Ferdinandsbrücke Project, Vienna, Austria (Ele...   \n",
      "1  City of Music, National Superior Conservatory ...   \n",
      "2  Villa project, outside Vienna, Austria (Elevat...   \n",
      "3  The Manhattan Transcripts Project, New York, N...   \n",
      "4  Villa project, outside Vienna, Austria (Exteri...   \n",
      "\n",
      "                     Artist ConstituentID  \\\n",
      "0               Otto Wagner          6210   \n",
      "1  Christian de Portzamparc          7470   \n",
      "2                Emil Hoppe          7605   \n",
      "3           Bernard Tschumi          7056   \n",
      "4                Emil Hoppe          7605   \n",
      "\n",
      "                                 ArtistBio_x Nationality_x BeginDate_x  \\\n",
      "0                      (Austrian, 1841–1918)    (Austrian)      (1841)   \n",
      "1                        (French, born 1944)      (French)      (1944)   \n",
      "2                      (Austrian, 1876–1957)    (Austrian)      (1876)   \n",
      "3  (French and Swiss, born Switzerland 1944)            ()      (1944)   \n",
      "4                      (Austrian, 1876–1957)    (Austrian)      (1876)   \n",
      "\n",
      "  EndDate_x Gender_x  Date                                             Medium  \\\n",
      "0    (1918)   (male)  1896      Ink and cut-and-pasted painted pages on paper   \n",
      "1       (0)   (male)  1987                  Paint and colored pencil on print   \n",
      "2    (1957)   (male)  1903  Graphite, pen, color pencil, ink, and gouache ...   \n",
      "3       (0)   (male)  1980  Photographic reproduction with colored synthet...   \n",
      "4    (1957)   (male)  1903  Graphite, color pencil, ink, and gouache on tr...   \n",
      "\n",
      "                           Dimensions  \\\n",
      "0  19 1/8 x 66 1/2\" (48.6 x 168.9 cm)   \n",
      "1       16 x 11 3/4\" (40.6 x 29.8 cm)   \n",
      "2   13 1/2 x 12 1/2\" (34.3 x 31.8 cm)   \n",
      "3           20 x 20\" (50.8 x 50.8 cm)   \n",
      "4    15 1/8 x 7 1/2\" (38.4 x 19.1 cm)   \n",
      "\n",
      "                                          CreditLine AccessionNumber  \\\n",
      "0  Fractional and promised gift of Jo Carole and ...        885.1996   \n",
      "1  Gift of the architect in honor of Lily Auchinc...          1.1995   \n",
      "2             Gift of Jo Carole and Ronald S. Lauder          1.1997   \n",
      "3  Purchase and partial gift of the architect in ...          2.1995   \n",
      "4             Gift of Jo Carole and Ronald S. Lauder          2.1997   \n",
      "\n",
      "  Classification             Department DateAcquired Cataloged  ObjectID  \\\n",
      "0   Architecture  Architecture & Design   1996-04-09         Y         2   \n",
      "1   Architecture  Architecture & Design   1995-01-17         Y         3   \n",
      "2   Architecture  Architecture & Design   1997-01-15         Y         4   \n",
      "3   Architecture  Architecture & Design   1995-01-17         Y         5   \n",
      "4   Architecture  Architecture & Design   1997-01-15         Y         6   \n",
      "\n",
      "                                       URL  \\\n",
      "0  https://www.moma.org/collection/works/2   \n",
      "1  https://www.moma.org/collection/works/3   \n",
      "2  https://www.moma.org/collection/works/4   \n",
      "3  https://www.moma.org/collection/works/5   \n",
      "4  https://www.moma.org/collection/works/6   \n",
      "\n",
      "                                            ImageURL OnView  \\\n",
      "0  https://www.moma.org/media/W1siZiIsIjUyNzc3MCJ...    NaN   \n",
      "1  https://www.moma.org/media/W1siZiIsIjUyNzM3NCJ...    NaN   \n",
      "2  https://www.moma.org/media/W1siZiIsIjUyNzM3NSJ...    NaN   \n",
      "3  https://www.moma.org/media/W1siZiIsIjUyNzQ3NCJ...    NaN   \n",
      "4  https://www.moma.org/media/W1siZiIsIjUyNzQ3NSJ...    NaN   \n",
      "\n",
      "   Circumference (cm)  Depth (cm)  Diameter (cm)  Height (cm)  Length (cm)  \\\n",
      "0                 NaN         NaN            NaN      48.6000          NaN   \n",
      "1                 NaN         NaN            NaN      40.6401          NaN   \n",
      "2                 NaN         NaN            NaN      34.3000          NaN   \n",
      "3                 NaN         NaN            NaN      50.8000          NaN   \n",
      "4                 NaN         NaN            NaN      38.4000          NaN   \n",
      "\n",
      "   Weight (kg)  Width (cm)  Seat Height (cm)  Duration (sec.)  \\\n",
      "0          NaN    168.9000               NaN              NaN   \n",
      "1          NaN     29.8451               NaN              NaN   \n",
      "2          NaN     31.8000               NaN              NaN   \n",
      "3          NaN     50.8000               NaN              NaN   \n",
      "4          NaN     19.1000               NaN              NaN   \n",
      "\n",
      "              DisplayName_x                              ArtistBio_y  \\\n",
      "0               Otto Wagner                      Austrian, 1841–1918   \n",
      "1  Christian de Portzamparc                        French, born 1944   \n",
      "2                Emil Hoppe                      Austrian, 1876–1957   \n",
      "3           Bernard Tschumi  French and Swiss, born Switzerland 1944   \n",
      "4                Emil Hoppe                      Austrian, 1876–1957   \n",
      "\n",
      "  Nationality_y Gender_y  BeginDate_y  EndDate_y  Wiki QID         ULAN  \\\n",
      "0      Austrian     male       1841.0     1918.0    Q84287  500016971.0   \n",
      "1        French     male       1944.0        0.0   Q312838  500024982.0   \n",
      "2      Austrian     male       1876.0     1957.0  Q1336246  500232997.0   \n",
      "3           NaN     male       1944.0        0.0   Q123966  500022322.0   \n",
      "4      Austrian     male       1876.0     1957.0  Q1336246  500232997.0   \n",
      "\n",
      "  DisplayName_y            ArtistBio Nationality Gender  BeginDate  EndDate  \n",
      "0   Otto Wagner  Austrian, 1841–1918    Austrian   male     1841.0   1918.0  \n",
      "1           NaN                  NaN         NaN    NaN        NaN      NaN  \n",
      "2           NaN                  NaN         NaN    NaN        NaN      NaN  \n",
      "3           NaN                  NaN         NaN    NaN        NaN      NaN  \n",
      "4           NaN                  NaN         NaN    NaN        NaN      NaN  \n"
     ]
    }
   ],
   "source": [
    "merged_on_view_df = pd.merge(merged_df, art_on_view_df, on='ConstituentID', how='left')\n",
    "print(\"merged_on_view_df: \", merged_on_view_df.shape)\n",
    "print(merged_on_view_df.head(5))"
   ]
  },
  {
   "cell_type": "code",
   "execution_count": 11,
   "id": "92d1a109",
   "metadata": {},
   "outputs": [
    {
     "data": {
      "text/plain": [
       "Title                  object\n",
       "Artist                 object\n",
       "ConstituentID          object\n",
       "ArtistBio_x            object\n",
       "Nationality_x          object\n",
       "BeginDate_x            object\n",
       "EndDate_x              object\n",
       "Gender_x               object\n",
       "Date                   object\n",
       "Medium                 object\n",
       "Dimensions             object\n",
       "CreditLine             object\n",
       "AccessionNumber        object\n",
       "Classification         object\n",
       "Department             object\n",
       "DateAcquired           object\n",
       "Cataloged              object\n",
       "ObjectID                int64\n",
       "URL                    object\n",
       "ImageURL               object\n",
       "OnView                 object\n",
       "Circumference (cm)    float64\n",
       "Depth (cm)            float64\n",
       "Diameter (cm)         float64\n",
       "Height (cm)           float64\n",
       "Length (cm)           float64\n",
       "Weight (kg)           float64\n",
       "Width (cm)            float64\n",
       "Seat Height (cm)      float64\n",
       "Duration (sec.)       float64\n",
       "DisplayName_x          object\n",
       "ArtistBio_y            object\n",
       "Nationality_y          object\n",
       "Gender_y               object\n",
       "BeginDate_y           float64\n",
       "EndDate_y             float64\n",
       "Wiki QID               object\n",
       "ULAN                  float64\n",
       "DisplayName_y          object\n",
       "ArtistBio              object\n",
       "Nationality            object\n",
       "Gender                 object\n",
       "BeginDate             float64\n",
       "EndDate               float64\n",
       "dtype: object"
      ]
     },
     "execution_count": 11,
     "metadata": {},
     "output_type": "execute_result"
    }
   ],
   "source": [
    "merged_on_view_df.dtypes"
   ]
  },
  {
   "cell_type": "code",
   "execution_count": 12,
   "id": "2041dbde",
   "metadata": {},
   "outputs": [],
   "source": [
    "# converting 'DateAcquired' object type column in merged_on_view_df, to datetime for better analysis\n",
    "\n",
    "merged_on_view_df['DateAcquired'] = pd.to_datetime(merged_on_view_df['DateAcquired'], errors='coerce')"
   ]
  },
  {
   "cell_type": "code",
   "execution_count": 13,
   "id": "5ec69266",
   "metadata": {},
   "outputs": [
    {
     "data": {
      "text/plain": [
       "Title                         object\n",
       "Artist                        object\n",
       "ConstituentID                 object\n",
       "ArtistBio_x                   object\n",
       "Nationality_x                 object\n",
       "BeginDate_x                   object\n",
       "EndDate_x                     object\n",
       "Gender_x                      object\n",
       "Date                          object\n",
       "Medium                        object\n",
       "Dimensions                    object\n",
       "CreditLine                    object\n",
       "AccessionNumber               object\n",
       "Classification                object\n",
       "Department                    object\n",
       "DateAcquired          datetime64[ns]\n",
       "Cataloged                     object\n",
       "ObjectID                       int64\n",
       "URL                           object\n",
       "ImageURL                      object\n",
       "OnView                        object\n",
       "Circumference (cm)           float64\n",
       "Depth (cm)                   float64\n",
       "Diameter (cm)                float64\n",
       "Height (cm)                  float64\n",
       "Length (cm)                  float64\n",
       "Weight (kg)                  float64\n",
       "Width (cm)                   float64\n",
       "Seat Height (cm)             float64\n",
       "Duration (sec.)              float64\n",
       "DisplayName_x                 object\n",
       "ArtistBio_y                   object\n",
       "Nationality_y                 object\n",
       "Gender_y                      object\n",
       "BeginDate_y                  float64\n",
       "EndDate_y                    float64\n",
       "Wiki QID                      object\n",
       "ULAN                         float64\n",
       "DisplayName_y                 object\n",
       "ArtistBio                     object\n",
       "Nationality                   object\n",
       "Gender                        object\n",
       "BeginDate                    float64\n",
       "EndDate                      float64\n",
       "dtype: object"
      ]
     },
     "execution_count": 13,
     "metadata": {},
     "output_type": "execute_result"
    }
   ],
   "source": [
    "merged_on_view_df.dtypes"
   ]
  },
  {
   "cell_type": "code",
   "execution_count": 14,
   "id": "6e58ed29",
   "metadata": {},
   "outputs": [
    {
     "data": {
      "text/plain": [
       "Artist\n",
       "Ludwig Mies van der Rohe     15491\n",
       "Eugène Atget                  5031\n",
       "Louise Bourgeois              3336\n",
       "Unidentified photographer     2742\n",
       "Ellsworth Kelly               2193\n",
       "                             ...  \n",
       "Kirsten Kraa                     1\n",
       "Stefan Knapp                     1\n",
       "Marina Stern                     1\n",
       "Wolfgang Schmidt                 1\n",
       "Georg Ettl                       1\n",
       "Name: count, Length: 14078, dtype: int64"
      ]
     },
     "execution_count": 14,
     "metadata": {},
     "output_type": "execute_result"
    }
   ],
   "source": [
    "merged_on_view_df['Artist'].value_counts()"
   ]
  },
  {
   "cell_type": "markdown",
   "id": "be557d9d",
   "metadata": {},
   "source": [
    "## QUESTIONS:\n",
    "- How many unique artists are there?\n",
    "- What are the top 3 nationalities?\n",
    "- What is the gender distribution?\n",
    "- What are the top 10 art classification?\n",
    "- What is the artwork distribution per department?\n",
    "- What is the artwork acquisition trend per year?\n",
    "- Find top artists with most amount of art work.\n",
    "- Find the total artwork on display."
   ]
  },
  {
   "cell_type": "code",
   "execution_count": 32,
   "id": "0c7ae499",
   "metadata": {},
   "outputs": [],
   "source": [
    "unique_artist = merged_on_view_df['Artist'].unique()\n",
    "top_nationalities = merged_on_view_df['Nationality'].value_counts().head(5)\n",
    "gender_distribution = merged_df['Gender_y'].value_counts()\n",
    "top_artwork_types = merged_on_view_df['Classification'].value_counts().head(10)\n",
    "artwork_by_department = merged_on_view_df.Department.value_counts()\n",
    "acquisition_trends_yearly = merged_on_view_df['DateAcquired'].dt.year.value_counts().sort_index()\n",
    "top_artists_by_artworks = merged_df.DisplayName.value_counts().head(10)\n",
    "total_art_displayed = merged_on_view_df.OnView.notna().sum()"
   ]
  },
  {
   "cell_type": "code",
   "execution_count": 16,
   "id": "8b278acb",
   "metadata": {},
   "outputs": [
    {
     "data": {
      "text/plain": [
       "Department\n",
       "Drawings & Prints                        80420\n",
       "Architecture & Design                    33612\n",
       "Photography                              33608\n",
       "Painting & Sculpture                      4055\n",
       "Media and Performance                     3198\n",
       "Fluxus Collection                         1683\n",
       "Film                                      1024\n",
       "Architecture & Design - Image Archive       30\n",
       "Name: count, dtype: int64"
      ]
     },
     "execution_count": 16,
     "metadata": {},
     "output_type": "execute_result"
    }
   ],
   "source": [
    "artwork_by_department"
   ]
  },
  {
   "cell_type": "code",
   "execution_count": 46,
   "id": "6d35e305",
   "metadata": {},
   "outputs": [
    {
     "data": {
      "image/png": "[encoded data removed]",
      "text/plain": [
       "<Figure size 1200x600 with 1 Axes>"
      ]
     },
     "metadata": {},
     "output_type": "display_data"
    }
   ],
   "source": [
    "\n",
    "plt.style.use('dark_background')\n",
    "artwork_by_department.plot(kind='bar', figsize=(12, 6), color='skyblue')\n",
    "plt.title('Number of Artworks by Department')\n",
    "plt.xlabel('Department')\n",
    "plt.ylabel('Number of Artworks')\n",
    "plt.xticks(rotation=45)\n",
    "plt.tight_layout()\n",
    "plt.show()"
   ]
  },
  {
   "cell_type": "code",
   "execution_count": 18,
   "id": "b279f4c5",
   "metadata": {},
   "outputs": [
    {
     "data": {
      "text/plain": [
       "Gender_y\n",
       "male                     121010\n",
       "female                    19608\n",
       "female (transwoman)          62\n",
       "non-binary                   12\n",
       "gender non-conforming         2\n",
       "transgender woman             1\n",
       "Name: count, dtype: int64"
      ]
     },
     "execution_count": 18,
     "metadata": {},
     "output_type": "execute_result"
    }
   ],
   "source": [
    "gender_distribution"
   ]
  },
  {
   "cell_type": "code",
   "execution_count": 43,
   "id": "527d5153",
   "metadata": {},
   "outputs": [
    {
     "data": {
      "image/png": "[encoded data removed]",
      "text/plain": [
       "<Figure size 600x500 with 1 Axes>"
      ]
     },
     "metadata": {},
     "output_type": "display_data"
    }
   ],
   "source": [
    "# Generated by AI\n",
    "plt.style.use('dark_background')\n",
    "plt.figure(figsize=(6, 5))\n",
    "colors = plt.cm.Paired(range(len(gender_distribution)))\n",
    "wedges, texts = plt.pie(\n",
    "    gender_distribution,\n",
    "    startangle=90,\n",
    "    colors=colors,\n",
    "    labels=None,\n",
    "    wedgeprops={'linewidth': 0, 'edgecolor': 'white'}\n",
    ")\n",
    "# Prepare legend labels with counts and percentages\n",
    "total = gender_distribution.sum()\n",
    "legend_labels = [\n",
    "    f\"{label}: {count} ({count/total:.2%})\"\n",
    "    for label, count in zip(gender_distribution.index, gender_distribution.values)\n",
    "]\n",
    "plt.title('Gender Distribution in all artworks')\n",
    "plt.legend(wedges, legend_labels, bbox_to_anchor=(1.05, 1), loc='upper left')\n",
    "plt.ylabel('')\n",
    "plt.tight_layout()\n",
    "plt.show() "
   ]
  },
  {
   "cell_type": "code",
   "execution_count": 20,
   "id": "c0a26b2d",
   "metadata": {},
   "outputs": [
    {
     "data": {
      "text/plain": [
       "DateAcquired\n",
       "1929.0        9\n",
       "1930.0        7\n",
       "1931.0        3\n",
       "1932.0       18\n",
       "1933.0       93\n",
       "1934.0      284\n",
       "1935.0      416\n",
       "1936.0      146\n",
       "1937.0      322\n",
       "1938.0      127\n",
       "1939.0      398\n",
       "1940.0     1583\n",
       "1941.0      977\n",
       "1942.0      938\n",
       "1943.0     1132\n",
       "1944.0      346\n",
       "1945.0      315\n",
       "1946.0      171\n",
       "1947.0      475\n",
       "1948.0      421\n",
       "1949.0     1588\n",
       "1950.0      453\n",
       "1951.0      631\n",
       "1952.0      550\n",
       "1953.0      474\n",
       "1954.0      881\n",
       "1955.0      446\n",
       "1956.0     1134\n",
       "1957.0      303\n",
       "1958.0      705\n",
       "1959.0      829\n",
       "1960.0      449\n",
       "1961.0      552\n",
       "1962.0      565\n",
       "1963.0      951\n",
       "1964.0    12998\n",
       "1965.0     2020\n",
       "1966.0     1859\n",
       "1967.0     2420\n",
       "1968.0    19733\n",
       "1969.0     2194\n",
       "1970.0     1245\n",
       "1971.0     1041\n",
       "1972.0      862\n",
       "1973.0     1101\n",
       "1974.0     3394\n",
       "1975.0      991\n",
       "1976.0      902\n",
       "1977.0     1208\n",
       "1978.0     1349\n",
       "1979.0     1198\n",
       "1980.0      680\n",
       "1981.0     1347\n",
       "1982.0      851\n",
       "1983.0     1157\n",
       "1984.0      869\n",
       "1985.0     1050\n",
       "1986.0     1028\n",
       "1987.0     1321\n",
       "1988.0     1019\n",
       "1989.0      891\n",
       "1990.0     1274\n",
       "1991.0      837\n",
       "1992.0     1197\n",
       "1993.0     1227\n",
       "1994.0      943\n",
       "1995.0      988\n",
       "1996.0      972\n",
       "1997.0      950\n",
       "1998.0     1292\n",
       "1999.0     1808\n",
       "2000.0     1886\n",
       "2001.0     4170\n",
       "2002.0      635\n",
       "2003.0      596\n",
       "2004.0      773\n",
       "2005.0     4054\n",
       "2006.0     1665\n",
       "2007.0     2348\n",
       "2008.0     7176\n",
       "2009.0     1531\n",
       "2010.0     2050\n",
       "2011.0     1916\n",
       "2012.0     2943\n",
       "2013.0     3109\n",
       "2014.0     2829\n",
       "2015.0     3817\n",
       "2016.0     1994\n",
       "2017.0     1620\n",
       "2018.0     2507\n",
       "2019.0     2286\n",
       "2020.0     2600\n",
       "2021.0      920\n",
       "2022.0     1218\n",
       "2023.0      468\n",
       "2024.0      862\n",
       "Name: count, dtype: int64"
      ]
     },
     "execution_count": 20,
     "metadata": {},
     "output_type": "execute_result"
    }
   ],
   "source": [
    "acquisition_trends_yearly"
   ]
  },
  {
   "cell_type": "code",
   "execution_count": 39,
   "id": "7dce826a",
   "metadata": {},
   "outputs": [
    {
     "data": {
      "image/png": "[encoded data removed]",
      "text/plain": [
       "<Figure size 1200x600 with 1 Axes>"
      ]
     },
     "metadata": {},
     "output_type": "display_data"
    }
   ],
   "source": [
    "plt.style.use('dark_background')  # Set dark background for the plot\n",
    "\n",
    "acquisition_trends_yearly.plot(kind='line', figsize=(12, 6), marker='o', color='orange')\n",
    "\n",
    "plt.title('Artwork acquisition Trends Over the Years')\n",
    "plt.xlabel('Year')\n",
    "plt.ylabel('Number of Artworks Acquired')\n",
    "plt.grid(True, linestyle='--', alpha=0.4)\n",
    "\n",
    "years = acquisition_trends_yearly.index.astype(int)\n",
    "plt.xticks(\n",
    "    ticks=years[::5],\n",
    "    rotation=45\n",
    ")\n",
    "plt.tight_layout()\n",
    "plt.show()"
   ]
  },
  {
   "cell_type": "markdown",
   "id": "5af8f7fe",
   "metadata": {},
   "source": [
    "## Some other visualisations"
   ]
  },
  {
   "cell_type": "code",
   "execution_count": 33,
   "id": "8d36a9ba",
   "metadata": {},
   "outputs": [
    {
     "data": {
      "application/vnd.plotly.v1+json": {
       "config": {
        "plotlyServerURL": "https://plot.ly"
       },
       "data": [
        {
         "hovertemplate": "Nationality=%{x}<br>Number of Artists=%{y}<br>color=%{marker.color}<extra></extra>",
         "legendgroup": "",
         "marker": {
          "color": {
           "bdata": "tIQAALwtAABpCQAAkQgAAMkCAAA=",
           "dtype": "i4"
          },
          "coloraxis": "coloraxis",
          "pattern": {
           "shape": ""
          }
         },
         "name": "",
         "orientation": "v",
         "showlegend": false,
         "textposition": "auto",
         "type": "bar",
         "x": [
          "American",
          "French",
          "German",
          "Spanish",
          "Russian"
         ],
         "xaxis": "x",
         "y": {
          "bdata": "tIQAALwtAABpCQAAkQgAAMkCAAA=",
          "dtype": "i4"
         },
         "yaxis": "y"
        }
       ],
       "layout": {
        "barmode": "relative",
        "coloraxis": {
         "colorbar": {
          "title": {
           "text": "color"
          }
         },
         "colorscale": [
          [
           0,
           "#0d0887"
          ],
          [
           0.1111111111111111,
           "#46039f"
          ],
          [
           0.2222222222222222,
           "#7201a8"
          ],
          [
           0.3333333333333333,
           "#9c179e"
          ],
          [
           0.4444444444444444,
           "#bd3786"
          ],
          [
           0.5555555555555556,
           "#d8576b"
          ],
          [
           0.6666666666666666,
           "#ed7953"
          ],
          [
           0.7777777777777778,
           "#fb9f3a"
          ],
          [
           0.8888888888888888,
           "#fdca26"
          ],
          [
           1,
           "#f0f921"
          ]
         ]
        },
        "legend": {
         "tracegroupgap": 0
        },
        "template": {
         "data": {
          "bar": [
           {
            "error_x": {
             "color": "#f2f5fa"
            },
            "error_y": {
             "color": "#f2f5fa"
            },
            "marker": {
             "line": {
              "color": "rgb(17,17,17)",
              "width": 0.5
             },
             "pattern": {
              "fillmode": "overlay",
              "size": 10,
              "solidity": 0.2
             }
            },
            "type": "bar"
           }
          ],
          "barpolar": [
           {
            "marker": {
             "line": {
              "color": "rgb(17,17,17)",
              "width": 0.5
             },
             "pattern": {
              "fillmode": "overlay",
              "size": 10,
              "solidity": 0.2
             }
            },
            "type": "barpolar"
           }
          ],
          "carpet": [
           {
            "aaxis": {
             "endlinecolor": "#A2B1C6",
             "gridcolor": "#506784",
             "linecolor": "#506784",
             "minorgridcolor": "#506784",
             "startlinecolor": "#A2B1C6"
            },
            "baxis": {
             "endlinecolor": "#A2B1C6",
             "gridcolor": "#506784",
             "linecolor": "#506784",
             "minorgridcolor": "#506784",
             "startlinecolor": "#A2B1C6"
            },
            "type": "carpet"
           }
          ],
          "choropleth": [
           {
            "colorbar": {
             "outlinewidth": 0,
             "ticks": ""
            },
            "type": "choropleth"
           }
          ],
          "contour": [
           {
            "colorbar": {
             "outlinewidth": 0,
             "ticks": ""
            },
            "colorscale": [
             [
              0,
              "#0d0887"
             ],
             [
              0.1111111111111111,
              "#46039f"
             ],
             [
              0.2222222222222222,
              "#7201a8"
             ],
             [
              0.3333333333333333,
              "#9c179e"
             ],
             [
              0.4444444444444444,
              "#bd3786"
             ],
             [
              0.5555555555555556,
              "#d8576b"
             ],
             [
              0.6666666666666666,
              "#ed7953"
             ],
             [
              0.7777777777777778,
              "#fb9f3a"
             ],
             [
              0.8888888888888888,
              "#fdca26"
             ],
             [
              1,
              "#f0f921"
             ]
            ],
            "type": "contour"
           }
          ],
          "contourcarpet": [
           {
            "colorbar": {
             "outlinewidth": 0,
             "ticks": ""
            },
            "type": "contourcarpet"
           }
          ],
          "heatmap": [
           {
            "colorbar": {
             "outlinewidth": 0,
             "ticks": ""
            },
            "colorscale": [
             [
              0,
              "#0d0887"
             ],
             [
              0.1111111111111111,
              "#46039f"
             ],
             [
              0.2222222222222222,
              "#7201a8"
             ],
             [
              0.3333333333333333,
              "#9c179e"
             ],
             [
              0.4444444444444444,
              "#bd3786"
             ],
             [
              0.5555555555555556,
              "#d8576b"
             ],
             [
              0.6666666666666666,
              "#ed7953"
             ],
             [
              0.7777777777777778,
              "#fb9f3a"
             ],
             [
              0.8888888888888888,
              "#fdca26"
             ],
             [
              1,
              "#f0f921"
             ]
            ],
            "type": "heatmap"
           }
          ],
          "histogram": [
           {
            "marker": {
             "pattern": {
              "fillmode": "overlay",
              "size": 10,
              "solidity": 0.2
             }
            },
            "type": "histogram"
           }
          ],
          "histogram2d": [
           {
            "colorbar": {
             "outlinewidth": 0,
             "ticks": ""
            },
            "colorscale": [
             [
              0,
              "#0d0887"
             ],
             [
              0.1111111111111111,
              "#46039f"
             ],
             [
              0.2222222222222222,
              "#7201a8"
             ],
             [
              0.3333333333333333,
              "#9c179e"
             ],
             [
              0.4444444444444444,
              "#bd3786"
             ],
             [
              0.5555555555555556,
              "#d8576b"
             ],
             [
              0.6666666666666666,
              "#ed7953"
             ],
             [
              0.7777777777777778,
              "#fb9f3a"
             ],
             [
              0.8888888888888888,
              "#fdca26"
             ],
             [
              1,
              "#f0f921"
             ]
            ],
            "type": "histogram2d"
           }
          ],
          "histogram2dcontour": [
           {
            "colorbar": {
             "outlinewidth": 0,
             "ticks": ""
            },
            "colorscale": [
             [
              0,
              "#0d0887"
             ],
             [
              0.1111111111111111,
              "#46039f"
             ],
             [
              0.2222222222222222,
              "#7201a8"
             ],
             [
              0.3333333333333333,
              "#9c179e"
             ],
             [
              0.4444444444444444,
              "#bd3786"
             ],
             [
              0.5555555555555556,
              "#d8576b"
             ],
             [
              0.6666666666666666,
              "#ed7953"
             ],
             [
              0.7777777777777778,
              "#fb9f3a"
             ],
             [
              0.8888888888888888,
              "#fdca26"
             ],
             [
              1,
              "#f0f921"
             ]
            ],
            "type": "histogram2dcontour"
           }
          ],
          "mesh3d": [
           {
            "colorbar": {
             "outlinewidth": 0,
             "ticks": ""
            },
            "type": "mesh3d"
           }
          ],
          "parcoords": [
           {
            "line": {
             "colorbar": {
              "outlinewidth": 0,
              "ticks": ""
             }
            },
            "type": "parcoords"
           }
          ],
          "pie": [
           {
            "automargin": true,
            "type": "pie"
           }
          ],
          "scatter": [
           {
            "marker": {
             "line": {
              "color": "#283442"
             }
            },
            "type": "scatter"
           }
          ],
          "scatter3d": [
           {
            "line": {
             "colorbar": {
              "outlinewidth": 0,
              "ticks": ""
             }
            },
            "marker": {
             "colorbar": {
              "outlinewidth": 0,
              "ticks": ""
             }
            },
            "type": "scatter3d"
           }
          ],
          "scattercarpet": [
           {
            "marker": {
             "colorbar": {
              "outlinewidth": 0,
              "ticks": ""
             }
            },
            "type": "scattercarpet"
           }
          ],
          "scattergeo": [
           {
            "marker": {
             "colorbar": {
              "outlinewidth": 0,
              "ticks": ""
             }
            },
            "type": "scattergeo"
           }
          ],
          "scattergl": [
           {
            "marker": {
             "line": {
              "color": "#283442"
             }
            },
            "type": "scattergl"
           }
          ],
          "scattermap": [
           {
            "marker": {
             "colorbar": {
              "outlinewidth": 0,
              "ticks": ""
             }
            },
            "type": "scattermap"
           }
          ],
          "scattermapbox": [
           {
            "marker": {
             "colorbar": {
              "outlinewidth": 0,
              "ticks": ""
             }
            },
            "type": "scattermapbox"
           }
          ],
          "scatterpolar": [
           {
            "marker": {
             "colorbar": {
              "outlinewidth": 0,
              "ticks": ""
             }
            },
            "type": "scatterpolar"
           }
          ],
          "scatterpolargl": [
           {
            "marker": {
             "colorbar": {
              "outlinewidth": 0,
              "ticks": ""
             }
            },
            "type": "scatterpolargl"
           }
          ],
          "scatterternary": [
           {
            "marker": {
             "colorbar": {
              "outlinewidth": 0,
              "ticks": ""
             }
            },
            "type": "scatterternary"
           }
          ],
          "surface": [
           {
            "colorbar": {
             "outlinewidth": 0,
             "ticks": ""
            },
            "colorscale": [
             [
              0,
              "#0d0887"
             ],
             [
              0.1111111111111111,
              "#46039f"
             ],
             [
              0.2222222222222222,
              "#7201a8"
             ],
             [
              0.3333333333333333,
              "#9c179e"
             ],
             [
              0.4444444444444444,
              "#bd3786"
             ],
             [
              0.5555555555555556,
              "#d8576b"
             ],
             [
              0.6666666666666666,
              "#ed7953"
             ],
             [
              0.7777777777777778,
              "#fb9f3a"
             ],
             [
              0.8888888888888888,
              "#fdca26"
             ],
             [
              1,
              "#f0f921"
             ]
            ],
            "type": "surface"
           }
          ],
          "table": [
           {
            "cells": {
             "fill": {
              "color": "#506784"
             },
             "line": {
              "color": "rgb(17,17,17)"
             }
            },
            "header": {
             "fill": {
              "color": "#2a3f5f"
             },
             "line": {
              "color": "rgb(17,17,17)"
             }
            },
            "type": "table"
           }
          ]
         },
         "layout": {
          "annotationdefaults": {
           "arrowcolor": "#f2f5fa",
           "arrowhead": 0,
           "arrowwidth": 1
          },
          "autotypenumbers": "strict",
          "coloraxis": {
           "colorbar": {
            "outlinewidth": 0,
            "ticks": ""
           }
          },
          "colorscale": {
           "diverging": [
            [
             0,
             "#8e0152"
            ],
            [
             0.1,
             "#c51b7d"
            ],
            [
             0.2,
             "#de77ae"
            ],
            [
             0.3,
             "#f1b6da"
            ],
            [
             0.4,
             "#fde0ef"
            ],
            [
             0.5,
             "#f7f7f7"
            ],
            [
             0.6,
             "#e6f5d0"
            ],
            [
             0.7,
             "#b8e186"
            ],
            [
             0.8,
             "#7fbc41"
            ],
            [
             0.9,
             "#4d9221"
            ],
            [
             1,
             "#276419"
            ]
           ],
           "sequential": [
            [
             0,
             "#0d0887"
            ],
            [
             0.1111111111111111,
             "#46039f"
            ],
            [
             0.2222222222222222,
             "#7201a8"
            ],
            [
             0.3333333333333333,
             "#9c179e"
            ],
            [
             0.4444444444444444,
             "#bd3786"
            ],
            [
             0.5555555555555556,
             "#d8576b"
            ],
            [
             0.6666666666666666,
             "#ed7953"
            ],
            [
             0.7777777777777778,
             "#fb9f3a"
            ],
            [
             0.8888888888888888,
             "#fdca26"
            ],
            [
             1,
             "#f0f921"
            ]
           ],
           "sequentialminus": [
            [
             0,
             "#0d0887"
            ],
            [
             0.1111111111111111,
             "#46039f"
            ],
            [
             0.2222222222222222,
             "#7201a8"
            ],
            [
             0.3333333333333333,
             "#9c179e"
            ],
            [
             0.4444444444444444,
             "#bd3786"
            ],
            [
             0.5555555555555556,
             "#d8576b"
            ],
            [
             0.6666666666666666,
             "#ed7953"
            ],
            [
             0.7777777777777778,
             "#fb9f3a"
            ],
            [
             0.8888888888888888,
             "#fdca26"
            ],
            [
             1,
             "#f0f921"
            ]
           ]
          },
          "colorway": [
           "#636efa",
           "#EF553B",
           "#00cc96",
           "#ab63fa",
           "#FFA15A",
           "#19d3f3",
           "#FF6692",
           "#B6E880",
           "#FF97FF",
           "#FECB52"
          ],
          "font": {
           "color": "#f2f5fa"
          },
          "geo": {
           "bgcolor": "rgb(17,17,17)",
           "lakecolor": "rgb(17,17,17)",
           "landcolor": "rgb(17,17,17)",
           "showlakes": true,
           "showland": true,
           "subunitcolor": "#506784"
          },
          "hoverlabel": {
           "align": "left"
          },
          "hovermode": "closest",
          "mapbox": {
           "style": "dark"
          },
          "paper_bgcolor": "rgb(17,17,17)",
          "plot_bgcolor": "rgb(17,17,17)",
          "polar": {
           "angularaxis": {
            "gridcolor": "#506784",
            "linecolor": "#506784",
            "ticks": ""
           },
           "bgcolor": "rgb(17,17,17)",
           "radialaxis": {
            "gridcolor": "#506784",
            "linecolor": "#506784",
            "ticks": ""
           }
          },
          "scene": {
           "xaxis": {
            "backgroundcolor": "rgb(17,17,17)",
            "gridcolor": "#506784",
            "gridwidth": 2,
            "linecolor": "#506784",
            "showbackground": true,
            "ticks": "",
            "zerolinecolor": "#C8D4E3"
           },
           "yaxis": {
            "backgroundcolor": "rgb(17,17,17)",
            "gridcolor": "#506784",
            "gridwidth": 2,
            "linecolor": "#506784",
            "showbackground": true,
            "ticks": "",
            "zerolinecolor": "#C8D4E3"
           },
           "zaxis": {
            "backgroundcolor": "rgb(17,17,17)",
            "gridcolor": "#506784",
            "gridwidth": 2,
            "linecolor": "#506784",
            "showbackground": true,
            "ticks": "",
            "zerolinecolor": "#C8D4E3"
           }
          },
          "shapedefaults": {
           "line": {
            "color": "#f2f5fa"
           }
          },
          "sliderdefaults": {
           "bgcolor": "#C8D4E3",
           "bordercolor": "rgb(17,17,17)",
           "borderwidth": 1,
           "tickwidth": 0
          },
          "ternary": {
           "aaxis": {
            "gridcolor": "#506784",
            "linecolor": "#506784",
            "ticks": ""
           },
           "baxis": {
            "gridcolor": "#506784",
            "linecolor": "#506784",
            "ticks": ""
           },
           "bgcolor": "rgb(17,17,17)",
           "caxis": {
            "gridcolor": "#506784",
            "linecolor": "#506784",
            "ticks": ""
           }
          },
          "title": {
           "x": 0.05
          },
          "updatemenudefaults": {
           "bgcolor": "#506784",
           "borderwidth": 0
          },
          "xaxis": {
           "automargin": true,
           "gridcolor": "#283442",
           "linecolor": "#506784",
           "ticks": "",
           "title": {
            "standoff": 15
           },
           "zerolinecolor": "#283442",
           "zerolinewidth": 2
          },
          "yaxis": {
           "automargin": true,
           "gridcolor": "#283442",
           "linecolor": "#506784",
           "ticks": "",
           "title": {
            "standoff": 15
           },
           "zerolinecolor": "#283442",
           "zerolinewidth": 2
          }
         }
        },
        "title": {
         "text": "Top 3 Nationalities of Artists in MoMA collection"
        },
        "xaxis": {
         "anchor": "y",
         "domain": [
          0,
          1
         ],
         "title": {
          "text": "Nationality"
         }
        },
        "yaxis": {
         "anchor": "x",
         "domain": [
          0,
          1
         ],
         "title": {
          "text": "Number of Artists"
         }
        }
       }
      }
     },
     "metadata": {},
     "output_type": "display_data"
    }
   ],
   "source": [
    "import plotly.express as px\n",
    "import plotly.io as pio  # Import plotly.io\n",
    "\n",
    "# Set the default renderer to 'plotly_mimetype' for Jupyter Notebook\n",
    "# You can choose a different template if you prefer\n",
    "pio.templates.default = \"plotly_dark\"\n",
    "# Or \"notebook\" if you are using classic Jupyter Notebook\n",
    "pio.renderers.default = \"jupyterlab\"\n",
    "\n",
    "fig1 = px.bar(x=top_nationalities.index,\n",
    "              y=top_nationalities.values,\n",
    "              title='Top 3 Nationalities of Artists in MoMA collection',\n",
    "              labels={'x': 'Nationality', 'y': 'Number of Artists'},\n",
    "              color=top_nationalities.values)\n",
    "\n",
    "fig1.show()"
   ]
  },
  {
   "cell_type": "markdown",
   "id": "39db2c8c",
   "metadata": {},
   "source": [
    "### Minor Debugging"
   ]
  },
  {
   "cell_type": "code",
   "execution_count": null,
   "id": "92142e3d",
   "metadata": {},
   "outputs": [
    {
     "name": "stdout",
     "output_type": "stream",
     "text": [
      "5.10.4\n",
      "/usr/local/bin/python3.12\n"
     ]
    }
   ],
   "source": [
    "# To check the Python executable path and version of nbformat \n",
    "import sys\n",
    "import nbformat\n",
    "print(nbformat.__version__)\n",
    "print(sys.executable)"
   ]
  }
 ],
 "metadata": {
  "kernelspec": {
   "display_name": "Python 3",
   "language": "python",
   "name": "python3"
  },
  "language_info": {
   "codemirror_mode": {
    "name": "ipython",
    "version": 3
   },
   "file_extension": ".py",
   "mimetype": "text/x-python",
   "name": "python",
   "nbconvert_exporter": "python",
   "pygments_lexer": "ipython3",
   "version": "3.12.2"
  }
 },
 "nbformat": 4,
 "nbformat_minor": 5
}
